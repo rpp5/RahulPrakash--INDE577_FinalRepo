{
 "cells": [
  {
   "cell_type": "markdown",
   "metadata": {},
   "source": [
    "# Ensemble Methods in Machine Learning\n",
    "\n",
    "Ensemble methods are a foundational concept in machine learning, where the principle is straightforward yet powerful: combine the predictions from multiple models to create a final model that is more robust and accurate than any individual component model. This approach is akin to seeking advice from a group of experts rather than relying on a single person's opinion. Ensemble methods can reduce variance, bias, or improve predictions, and are broadly divided into several types:\n",
    "\n",
    "## Bootstrap Aggregating (Bagging)\n",
    "\n",
    "Bootstrap aggregating, often referred to as bagging, is a method that involves creating multiple versions of a predictor and using these to get an aggregated predictor. The data used for training each model is resampled with replacement from the entire training dataset. This means that each model sees a slightly different slice of the data, leading to variance among their predictions. However, when combined, these models tend to cancel out their individual variances, leading to a more stable and robust prediction.\n",
    "\n",
    "## Random Forests\n",
    "\n",
    "Random Forests take the concept of bagging a step further by introducing randomness into the tree building process. Here's how it works:\n",
    "\n",
    "1. Start with a bootstrap sample of the data.\n",
    "2. Fit a decision tree to this sample. When splitting a node during the construction of the tree, a random subset of the features is considered for the split.\n",
    "3. Each tree in the forest is built from a sample drawn with replacement (bootstrap sample) from the training set.\n",
    "4. After a large number of trees are built using this method, the predictions of the individual trees are averaged to make the final prediction.\n",
    "\n",
    "The randomization ensures that the high variance of the trees is averaged out, yielding a model with better generalization performance.\n",
    "\n",
    "## Boosting\n",
    "\n",
    "Boosting is a sequential technique which works on the principle of an ensemble. It combines a set of weak learners and delivers improved prediction accuracy. At each iteration of the training process, a new learner is added, while all existing learners are kept unchanged. All learners are weighted based on their performance (e.g., accuracy), and after a weak learner is added, the data weights are readjusted. Misclassified input data gains a higher weight, and examples that are classified correctly lose weight. Thus, future weak learners focus more on the examples that previous weak learners misclassified.\n",
    "\n",
    "### AdaBoost\n",
    "\n",
    "AdaBoost, short for Adaptive Boosting, starts by fitting an initial model (usually a decision tree) to the data. Then it increases the weights of the misclassified cases so that subsequent models focus more on difficult cases. This process is repeated sequentially, each time updating the weights of instances based on the last prediction. AdaBoost is sensitive to noisy data and outliers and can be less robust in such situations.\n",
    "\n",
    "### Gradient Boosting\n",
    "\n",
    "Gradient Boosting is a sophisticated version of boosting. It builds the model in a stage-wise fashion like AdaBoost but generalizes the procedure by allowing optimization of an arbitrary differentiable loss function. In Gradient Boosting, trees are built sequentially, with each tree being trained to correct the mistakes of the previous one. Unlike AdaBoost, which changes the weights for misclassified data points at every iteration, Gradient Boosting performs this by fitting the new model to the residual errors made by the previous predictor.\n",
    "\n",
    "Let's fit these Ensemble Learning models and see how well they fit and can make predictions on our data."
   ]
  },
  {
   "cell_type": "code",
   "execution_count": 23,
   "metadata": {},
   "outputs": [
    {
     "name": "stdout",
     "output_type": "stream",
     "text": [
      "Requirement already satisfied: imbalanced-learn in /Users/rahulprakash/opt/anaconda3/lib/python3.9/site-packages (0.12.2)\r\n",
      "Requirement already satisfied: scipy>=1.5.0 in /Users/rahulprakash/opt/anaconda3/lib/python3.9/site-packages (from imbalanced-learn) (1.7.3)\r\n",
      "Requirement already satisfied: threadpoolctl>=2.0.0 in /Users/rahulprakash/opt/anaconda3/lib/python3.9/site-packages (from imbalanced-learn) (2.2.0)\r\n",
      "Requirement already satisfied: joblib>=1.1.1 in /Users/rahulprakash/opt/anaconda3/lib/python3.9/site-packages (from imbalanced-learn) (1.4.0)\r\n",
      "Requirement already satisfied: numpy>=1.17.3 in /Users/rahulprakash/opt/anaconda3/lib/python3.9/site-packages (from imbalanced-learn) (1.22.4)\r\n",
      "Requirement already satisfied: scikit-learn>=1.0.2 in /Users/rahulprakash/opt/anaconda3/lib/python3.9/site-packages (from imbalanced-learn) (1.0.2)\r\n"
     ]
    }
   ],
   "source": [
    "!pip install imbalanced-learn\n",
    "\n",
    "\n",
    "#Random Forest\n",
    "import pandas as pd\n",
    "import numpy as np\n",
    "from sklearn.preprocessing import StandardScaler\n",
    "from sklearn.ensemble import RandomForestRegressor\n",
    "from sklearn.metrics import mean_squared_error\n",
    "from imblearn.over_sampling import SMOTE\n",
    "from sklearn.ensemble import RandomForestClassifier\n",
    "from sklearn.metrics import confusion_matrix, classification_report, ConfusionMatrixDisplay\n",
    "from sklearn.model_selection import train_test_split\n",
    "from sklearn.preprocessing import StandardScaler\n",
    "import matplotlib.pyplot as plt\n",
    "\n",
    "\n",
    "# Load the data\n",
    "df = pd.read_csv(\"salary.csv\")\n",
    "\n",
    "# Convert all columns to float, handling errors\n",
    "df = df.apply(pd.to_numeric, errors='coerce')\n",
    "\n",
    "# Replace NaN values with the mean of each column\n",
    "df.fillna(df.mean(), inplace=True)\n",
    "\n",
    "# Replace infinite values with the maximum non-infinite value from each column\n",
    "for column in df.columns:\n",
    "    if np.isinf(df[column]).any():\n",
    "        max_value = df[df[column] != np.inf][column].max()\n",
    "        df[column].replace([np.inf, -np.inf], max_value, inplace=True)\n"
   ]
  },
  {
   "cell_type": "code",
   "execution_count": 22,
   "metadata": {},
   "outputs": [
    {
     "name": "stdout",
     "output_type": "stream",
     "text": [
      "Mean Squared Error: 33360094460699.086\n",
      "Root Mean Squared Error: 5775819.8085379265\n"
     ]
    }
   ],
   "source": [
    "#Regression random forest\n",
    "\n",
    "# Assuming 'df' is your DataFrame and it's already loaded with data\n",
    "features = [\"Age\", \"GP\", \"MP\", \"FG\", \"FG%\", \"3P\", \"3P%\", \"eFG%\", \"TRB\", \"AST\", \"STL\", \"BLK\", \"TOV\", \"PF\", \"PTS\",\n",
    "            \"Total Minutes\", \"PER\", \"TS%\", \"3PAr\", \"FTr\", \"ORB%\", \"DRB%\", \"TRB%\", \"AST%\", \"STL%\", \"BLK%\", \"TOV%\", \"USG%\",\n",
    "            \"OWS\", \"DWS\", \"WS\", \"WS/48\", \"OBPM\", \"DBPM\", \"BPM\", \"VORP\"]\n",
    "X = df[features].values\n",
    "y = df[\"Salary\"].values\n",
    "\n",
    "# Scale the features\n",
    "scaler = StandardScaler()\n",
    "X_scaled = scaler.fit_transform(X)\n",
    "\n",
    "# Split the dataset into training and testing sets\n",
    "X_train, X_test, y_train, y_test = train_test_split(X_scaled, y, test_size=0.3, random_state=42)\n",
    "\n",
    "# Initialize the RandomForestRegressor\n",
    "forest_regressor = RandomForestRegressor(n_estimators=100, max_depth=10, random_state=42)\n",
    "\n",
    "# Train the model\n",
    "forest_regressor.fit(X_train, y_train)\n",
    "\n",
    "# Make predictions\n",
    "y_pred = forest_regressor.predict(X_test)\n",
    "\n",
    "# Calculate Mean Squared Error and Root Mean Squared Error\n",
    "mse = mean_squared_error(y_test, y_pred)\n",
    "rmse = np.sqrt(mse)\n",
    "\n",
    "print(f\"Mean Squared Error: {mse}\")\n",
    "print(f\"Root Mean Squared Error: {rmse}\")"
   ]
  },
  {
   "cell_type": "markdown",
   "metadata": {},
   "source": [
    "As we can see, our RMSE is quite low and suggests that under a random forest model, we can predict one's salary within an average of $5 million."
   ]
  },
  {
   "cell_type": "code",
   "execution_count": 16,
   "metadata": {},
   "outputs": [
    {
     "data": {
      "image/png": "[encoded data removed]",
      "text/plain": [
       "<Figure size 432x288 with 2 Axes>"
      ]
     },
     "metadata": {
      "needs_background": "light"
     },
     "output_type": "display_data"
    },
    {
     "name": "stdout",
     "output_type": "stream",
     "text": [
      "              precision    recall  f1-score   support\n",
      "\n",
      "       Cheap       0.78      0.71      0.74        49\n",
      "   Expensive       0.78      0.75      0.76        56\n",
      "      Medium       0.45      0.53      0.49        36\n",
      "\n",
      "    accuracy                           0.68       141\n",
      "   macro avg       0.67      0.66      0.67       141\n",
      "weighted avg       0.69      0.68      0.69       141\n",
      "\n"
     ]
    }
   ],
   "source": [
    "#Classification random forest\n",
    "\n",
    "# Assuming 'df' is your DataFrame and it's already loaded with data\n",
    "features = [\"Age\", \"GP\", \"MP\", \"FG\", \"FG%\", \"3P\", \"3P%\", \"eFG%\", \"TRB\", \"AST\", \"STL\", \"BLK\", \"TOV\", \"PF\", \"PTS\",\n",
    "            \"Total Minutes\", \"PER\", \"TS%\", \"3PAr\", \"FTr\", \"ORB%\", \"DRB%\", \"TRB%\", \"AST%\", \"STL%\", \"BLK%\", \"TOV%\", \"USG%\",\n",
    "            \"OWS\", \"DWS\", \"WS\", \"WS/48\", \"OBPM\", \"DBPM\", \"BPM\", \"VORP\"]\n",
    "X = df[features].values\n",
    "df['Salary_Category'] = pd.qcut(df['Salary'], q=3, labels=[\"Cheap\", \"Medium\", \"Expensive\"])\n",
    "y = df[\"Salary_Category\"].values\n",
    "\n",
    "# Scale the features\n",
    "scaler = StandardScaler()\n",
    "X_scaled = scaler.fit_transform(X)\n",
    "\n",
    "# Split the dataset\n",
    "X_train, X_test, y_train, y_test = train_test_split(X_scaled, y, test_size=0.3, random_state=42)\n",
    "\n",
    "# Handle class imbalance\n",
    "sm = SMOTE(random_state=42)\n",
    "X_resampled, y_resampled = sm.fit_resample(X_train, y_train)\n",
    "\n",
    "# Train the RandomForestClassifier\n",
    "rf = RandomForestClassifier(n_estimators=1000, random_state=42, max_depth=10)\n",
    "rf.fit(X_resampled, y_resampled)\n",
    "\n",
    "# Predict on the test data\n",
    "y_pred = rf.predict(X_test)\n",
    "\n",
    "# Confusion matrix and classification report\n",
    "conf_matrix = confusion_matrix(y_test, y_pred)\n",
    "disp = ConfusionMatrixDisplay(confusion_matrix=conf_matrix)\n",
    "disp.plot()\n",
    "plt.show()\n",
    "print(classification_report(y_test, y_pred))"
   ]
  },
  {
   "cell_type": "markdown",
   "metadata": {},
   "source": [
    "As we can see, random forest works well for classification as well and we correctly can classify a player's salary into high, medium, and low with an average accuracy of around 70%.\n",
    "\n",
    "Let's now fit a boost model and fit both AdaBoost and Gradient Boost models:"
   ]
  },
  {
   "cell_type": "code",
   "execution_count": 20,
   "metadata": {},
   "outputs": [
    {
     "name": "stdout",
     "output_type": "stream",
     "text": [
      "AdaBoost Model Accuracy: 0.6453900709219859\n"
     ]
    }
   ],
   "source": [
    "#Ada boost\n",
    "\n",
    "from sklearn.ensemble import AdaBoostClassifier\n",
    "from sklearn.tree import DecisionTreeClassifier\n",
    "from sklearn.metrics import accuracy_score\n",
    "\n",
    "# Initialize the AdaBoost classifier with a decision stump\n",
    "ada_boost = AdaBoostClassifier(\n",
    "    base_estimator=DecisionTreeClassifier(max_depth=1),\n",
    "    n_estimators=100,\n",
    "    random_state=42\n",
    ")\n",
    "\n",
    "# Train the AdaBoost model\n",
    "ada_boost.fit(X_train, y_train)\n",
    "\n",
    "# Make predictions\n",
    "y_pred_ada = ada_boost.predict(X_test)\n",
    "\n",
    "# Evaluate the model\n",
    "ada_accuracy = accuracy_score(y_test, y_pred_ada)\n",
    "print(f\"AdaBoost Model Accuracy: {ada_accuracy}\")\n"
   ]
  },
  {
   "cell_type": "code",
   "execution_count": 21,
   "metadata": {},
   "outputs": [
    {
     "name": "stdout",
     "output_type": "stream",
     "text": [
      "Gradient Boosting Model Accuracy: 0.7163120567375887\n"
     ]
    }
   ],
   "source": [
    "#Gradient boost\n",
    "\n",
    "from sklearn.ensemble import GradientBoostingClassifier\n",
    "\n",
    "# Initialize the Gradient Boosting classifier\n",
    "gradient_boost = GradientBoostingClassifier(\n",
    "    n_estimators=100,\n",
    "    learning_rate=0.1,\n",
    "    max_depth=3,\n",
    "    random_state=42\n",
    ")\n",
    "\n",
    "# Train the model\n",
    "gradient_boost.fit(X_train, y_train)\n",
    "\n",
    "# Make predictions\n",
    "y_pred_gb = gradient_boost.predict(X_test)\n",
    "\n",
    "# Evaluate the model\n",
    "gb_accuracy = accuracy_score(y_test, y_pred_gb)\n",
    "print(f\"Gradient Boosting Model Accuracy: {gb_accuracy}\")\n"
   ]
  },
  {
   "cell_type": "markdown",
   "metadata": {},
   "source": [
    "As we can see, our Gradient Boost model fits our data and can make predictions more accurately than our AdaBoost model. As we've seen earlier, our data and the relationship that our predictors have with salary is quite complex, which is probably why our AdaBoost model is less accurate than our Gradient Boost model since AdaBoost is sensitive to noisy data and can be less robust in such situations."
   ]
  }
 ],
 "metadata": {
  "kernelspec": {
   "display_name": "Python 3 (ipykernel)",
   "language": "python",
   "name": "python3"
  },
  "language_info": {
   "codemirror_mode": {
    "name": "ipython",
    "version": 3
   },
   "file_extension": ".py",
   "mimetype": "text/x-python",
   "name": "python",
   "nbconvert_exporter": "python",
   "pygments_lexer": "ipython3",
   "version": "3.9.12"
  }
 },
 "nbformat": 4,
 "nbformat_minor": 2
}
