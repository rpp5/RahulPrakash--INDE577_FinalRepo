{
 "cells": [
  {
   "cell_type": "markdown",
   "metadata": {},
   "source": [
    "# K-Nearest Neighbors (KNN) Models\n",
    "\n",
    "K-Nearest Neighbors (KNN) is a versatile algorithm often used in machine learning for both classification and regression. It's conceptually simple: it classifies new data points based on how closely they resemble data points in the training set.\n",
    "\n",
    "KNN operates on a simple principle: it finds the $k$ closest training examples to the new input, also known as neighbors, and predicts the output based on these neighbors. With KNN, the entire training dataset essentially becomes the model.\n",
    "\n",
    "## Classification\n",
    "For classification tasks, KNN assigns the class label based on a majority vote among the $k$ nearest neighbors. Each neighbor votes for their class, and the class with the most votes is the prediction made by the model.\n",
    "\n",
    "## Regression\n",
    "For regression, KNN predicts the output based on the average of the values of its $k$ nearest neighbors.\n",
    "\n",
    "## Distance Metric\n",
    "The algorithm uses a distance metric to find the closest neighbors. The most common distance metric is the Euclidean distance, which for two points $p$ and $q$ with coordinates `(p1, p2,..., pn)` and `(q1, q2,..., qn)` is defined as:\n",
    "\n",
    "$$ d(p, q) = \\sqrt{\\sum_{i=1}^n (q_i - p_i)^2} $$\n",
    "\n",
    "## Choosing the Right $k$\n",
    "Choosing the right $k$ is crucial for KNN's performance. The most common way to choose k is trial and error and see which value of $k$ minimizes our MSE. Typically, as $k$ converges towards 1, we will get less accurate predictions (since we are considering less points when making our predictions) and as $k$ increases, its prediction accuracy will increase up until a certain point $K$ and then decrease for all values past $K$. This $K$ then represents our optimal $k$-value. \n",
    "\n",
    "## Advantages and Disadvantages\n",
    "\n",
    "There are a variety of advantages and disadvantages of using a KNN model when making predictions:\n",
    "\n",
    "### Advantages\n",
    "- **Simplicity**: KNN is very easy to understand and implement.\n",
    "- **Nonparametric**: It makes no assumptions about the underlying data distribution, which is useful with real-world data.\n",
    "- **Versatility**: Can be used for classification, regression, and even search (in recommendation systems, for instance).\n",
    "\n",
    "### Disadvantages\n",
    "- **Scalability**: KNN can be slow to predict if the dataset is large, as it searches through all the training data.\n",
    "- **Curse of Dimensionality**: Performance degrades with a high number of features unless dimensionality reduction is performed.\n",
    "- **Sensitivity to Irrelevant Features**: KNN is sensitive to irrelevant or redundant features because all the features contribute to the distance calculation.\n",
    "- **Data with varying scales**: Requires feature scaling for good performance."
   ]
  },
  {
   "cell_type": "code",
   "execution_count": 2,
   "metadata": {},
   "outputs": [
    {
     "name": "stdout",
     "output_type": "stream",
     "text": [
      "Accuracy: 0.7304964539007093\n",
      "Classification Report:\n",
      "              precision    recall  f1-score   support\n",
      "\n",
      "           0       0.70      0.80      0.75        70\n",
      "           1       0.77      0.66      0.71        71\n",
      "\n",
      "    accuracy                           0.73       141\n",
      "   macro avg       0.74      0.73      0.73       141\n",
      "weighted avg       0.74      0.73      0.73       141\n",
      "\n",
      "Confusion Matrix:\n",
      "[[56 14]\n",
      " [24 47]]\n"
     ]
    }
   ],
   "source": [
    "#Classification\n",
    "\n",
    "import pandas as pd\n",
    "import numpy as np\n",
    "from sklearn.model_selection import train_test_split\n",
    "from sklearn.neighbors import KNeighborsClassifier\n",
    "from sklearn.preprocessing import StandardScaler\n",
    "from sklearn.metrics import accuracy_score, classification_report, confusion_matrix\n",
    "\n",
    "# Data has been loaded and 'high_salary' column created\n",
    "df = pd.read_csv(\"salary.csv\")\n",
    "median_salary = df['Salary'].median()\n",
    "df['high_salary'] = (df['Salary'] >= median_salary).astype(int)\n",
    "\n",
    "# Selecting features and the target\n",
    "X = df[[\"MP\", \"3P\"]].values\n",
    "y = df[\"high_salary\"].values\n",
    "\n",
    "# Splitting the data into training and testing sets\n",
    "X_train, X_test, y_train, y_test = train_test_split(X, y, stratify=y, test_size=0.3, random_state=42)\n",
    "\n",
    "scaler = StandardScaler()\n",
    "X_train_scaled = scaler.fit_transform(X_train)\n",
    "X_test_scaled = scaler.transform(X_test)\n",
    "\n",
    "# Initialize the KNeighborsClassifier\n",
    "knn = KNeighborsClassifier(n_neighbors=5)\n",
    "\n",
    "# Train the classifier\n",
    "knn.fit(X_train_scaled, y_train)\n",
    "\n",
    "# Making predictions\n",
    "y_pred = knn.predict(X_test_scaled)\n",
    "\n",
    "# Evaluating the classifier\n",
    "accuracy = accuracy_score(y_test, y_pred)\n",
    "print(f\"Accuracy: {accuracy}\")\n",
    "print(\"Classification Report:\")\n",
    "print(classification_report(y_test, y_pred))\n",
    "print(\"Confusion Matrix:\")\n",
    "print(confusion_matrix(y_test, y_pred))"
   ]
  },
  {
   "cell_type": "markdown",
   "metadata": {},
   "source": [
    "As we can see and based on our output, our KNN model predicts our salary classifier very well with around 73% accuracy which is significantly better than our neural network model and single perceptron model which hovered around 30% when it came to predictor our salary classifier. "
   ]
  },
  {
   "cell_type": "code",
   "execution_count": 22,
   "metadata": {},
   "outputs": [
    {
     "name": "stdout",
     "output_type": "stream",
     "text": [
      "Optimal k: k = 8\n"
     ]
    },
    {
     "data": {
      "image/png": "[encoded data removed]",
      "text/plain": [
       "<Figure size 432x288 with 1 Axes>"
      ]
     },
     "metadata": {
      "needs_background": "light"
     },
     "output_type": "display_data"
    },
    {
     "name": "stdout",
     "output_type": "stream",
     "text": [
      "Accuracy: 0.75177304964539\n"
     ]
    }
   ],
   "source": [
    "import matplotlib.pyplot as plt\n",
    "\n",
    "# Initialize a list to store accuracies\n",
    "accuracies = []\n",
    "\n",
    "# Train and evaluate a KNN model for each k from 1 to 20\n",
    "for k in range(1, 200):\n",
    "    knn = KNeighborsClassifier(n_neighbors=k)\n",
    "    knn.fit(X_train_scaled, y_train)\n",
    "    pred_k = knn.predict(X_test_scaled)\n",
    "    acc = accuracy_score(y_test, pred_k)\n",
    "    accuracies.append(acc)\n",
    "\n",
    "# Determine the k that leads to the highest accuracy\n",
    "optimal_k = accuracies.index(max(accuracies)) + 1  # +1 because index is 0-based and k starts from 1\n",
    "\n",
    "# Print the optimal k value\n",
    "print(f\"Optimal k: k = {optimal_k}\")\n",
    "\n",
    "# Plot the accuracies for different values of k to visualize\n",
    "plt.plot(range(1, 200), accuracies, marker='o')\n",
    "plt.xlabel('Number of Neighbors K')\n",
    "plt.ylabel('Accuracy')\n",
    "plt.title('Accuracy for different values of K')\n",
    "plt.axvline(x=optimal_k, color='r', linestyle='--', label=f'Optimal k = {optimal_k}')\n",
    "plt.legend()\n",
    "plt.show()\n",
    "\n",
    "print(f\"Accuracy: {max(accuracies)}\")\n",
    "\n"
   ]
  },
  {
   "cell_type": "markdown",
   "metadata": {},
   "source": [
    "As expected, as we change the number of neighbors $k$, we will get varying levels of accuracy. According to the plot above, our optimal accuracy occurs when $k$ = 8 "
   ]
  },
  {
   "cell_type": "code",
   "execution_count": 5,
   "metadata": {},
   "outputs": [
    {
     "name": "stdout",
     "output_type": "stream",
     "text": [
      "Mean Squared Error: 94391566339273.3\n",
      "Root Mean Squared Error: 9715532.22110211\n",
      "     Actual Salary  Predicted Salary\n",
      "55        21177750      2.043238e+07\n",
      "63        19500000      2.451272e+07\n",
      "33        30913750      2.043238e+07\n",
      "462          35096      5.983200e+06\n",
      "72        17207142      1.920527e+07\n",
      "..             ...               ...\n",
      "297        2239200      3.376594e+06\n",
      "234        3613680      9.855037e+06\n",
      "29        33000000      2.260891e+07\n",
      "157        7350000      4.320227e+06\n",
      "204        4591680      3.647893e+06\n",
      "\n",
      "[141 rows x 2 columns]\n"
     ]
    }
   ],
   "source": [
    "#Now let's use KNN for regression\n",
    "\n",
    "import numpy as np\n",
    "import pandas as pd\n",
    "from sklearn.model_selection import train_test_split\n",
    "from sklearn.preprocessing import StandardScaler\n",
    "from sklearn.neighbors import KNeighborsRegressor\n",
    "from sklearn.metrics import mean_squared_error\n",
    "\n",
    "X = df[['3P', 'MP']]\n",
    "y = df['Salary']\n",
    "\n",
    "# Split the data into training and testing sets\n",
    "X_train, X_test, y_train, y_test = train_test_split(X, y, test_size=0.3, random_state=42)\n",
    "\n",
    "# Scale the features\n",
    "scaler = StandardScaler()\n",
    "X_train_scaled = scaler.fit_transform(X_train)\n",
    "X_test_scaled = scaler.transform(X_test)\n",
    "\n",
    "# Initialize and train the KNN regressor\n",
    "knn_regressor = KNeighborsRegressor(n_neighbors=3)\n",
    "knn_regressor.fit(X_train_scaled, y_train)\n",
    "\n",
    "# Make predictions\n",
    "y_pred = knn_regressor.predict(X_test_scaled)\n",
    "\n",
    "# Evaluate the model\n",
    "mse = mean_squared_error(y_test, y_pred)\n",
    "print(\"Mean Squared Error:\", mse)\n",
    "rmse = np.sqrt(mse)\n",
    "print(\"Root Mean Squared Error:\", rmse)\n",
    "\n",
    "# Displaying actual vs predicted values for better understanding\n",
    "comparison = pd.DataFrame({'Actual Salary': y_test, 'Predicted Salary': y_pred})\n",
    "print(comparison)\n"
   ]
  },
  {
   "cell_type": "markdown",
   "metadata": {},
   "source": [
    "Our RMSE yields an interesting result -- while our KNN classifier model was a way better model than our neural network model when it came to classifying, when we fit our KNN regression model, our RMSE was higher than it was for our neural network model. Given the complex relationship between salary and our various predictors as we've explored, neural networks are generally more flexible and powerful in capturing complex patterns and interactions in the data, especially when the relationships are non-linear and the data volume is large. This might explain why the neural network has a better RMSE in regression; it can approximate the function relating inputs to continuous outputs more effectively than KNN."
   ]
  }
 ],
 "metadata": {
  "kernelspec": {
   "display_name": "Python 3 (ipykernel)",
   "language": "python",
   "name": "python3"
  },
  "language_info": {
   "codemirror_mode": {
    "name": "ipython",
    "version": 3
   },
   "file_extension": ".py",
   "mimetype": "text/x-python",
   "name": "python",
   "nbconvert_exporter": "python",
   "pygments_lexer": "ipython3",
   "version": "3.9.12"
  }
 },
 "nbformat": 4,
 "nbformat_minor": 2
}
